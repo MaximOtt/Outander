{
 "cells": [
  {
   "cell_type": "code",
   "execution_count": 30,
   "metadata": {},
   "outputs": [
    {
     "name": "stdout",
     "output_type": "stream",
     "text": [
      "Chapters have been saved in the 'chapters' folder.\n"
     ]
    }
   ],
   "source": [
    "import os\n",
    "\n",
    "# Function to preprocess text before splitting into chapters\n",
    "def preprocess_text(text):\n",
    "    # Remove lines starting with stars and empty lines\n",
    "    n_last_lines_were_stars = 0\n",
    "    last_line_was_star = False\n",
    "\n",
    "    lines = text.split('\\n')\n",
    "    cleaned_lines = []\n",
    "    for line in lines:    \n",
    "        if line == '*':\n",
    "            if last_line_was_star:\n",
    "                if n_last_lines_were_stars==2:\n",
    "                    cleaned_lines.append(f'\\\\sbreak')\n",
    "                    n_last_lines_were_stars = 0\n",
    "                else:\n",
    "                    n_last_lines_were_stars = n_last_lines_were_stars + 1\n",
    "            else:\n",
    "                last_line_was_star = True\n",
    "                n_last_lines_were_stars = 1\n",
    "            continue\n",
    "        else:\n",
    "            last_line_was_star = False\n",
    "            n_last_lines_were_stars = 0\n",
    "            \n",
    "        if (line.startswith('*') or line.endswith('*')) and line.strip() != '':\n",
    "            pass\n",
    "        else:\n",
    "            cleaned_lines.append(line)\n",
    "    \n",
    "    cleaned_text = '\\n'.join(cleaned_lines)\n",
    "    return cleaned_text\n",
    "\n",
    "# Function to split text into chapters\n",
    "def split_into_chapters(text, chapter_separator=\"CHAPTER\"):\n",
    "    chapters = text.split(chapter_separator)\n",
    "    # Remove empty strings and strip whitespace from chapter names\n",
    "    chapters = [chapter.strip() for chapter in chapters if chapter.strip()]\n",
    "    return chapters\n",
    "\n",
    "# Read content from LaO.txt and preprocess it\n",
    "file_path = \"LaO.txt\"\n",
    "with open(file_path, \"r\", encoding=\"utf-8\") as file:\n",
    "    content = file.read()\n",
    "\n",
    "# Preprocess the content\n",
    "cleaned_content = preprocess_text(content)\n",
    "\n",
    "# Split preprocessed content into chapters\n",
    "chapters = split_into_chapters(cleaned_content)[1:]\n",
    "\n",
    "# Create a \"chapters\" folder if it doesn't exist\n",
    "output_folder = \"chapters\"\n",
    "os.makedirs(output_folder, exist_ok=True)\n",
    "\n",
    "# Save each chapter into a separate file\n",
    "for i, chapter_content in enumerate(chapters, start=1):\n",
    "    chapter_filename = f\"chapter-{i}.tex\"\n",
    "    chapter_filepath = os.path.join(output_folder, chapter_filename)\n",
    "    with open(chapter_filepath, \"w\", encoding=\"utf-8\") as chapter_file:\n",
    "        chapter_content = chapter_content.split('\\n')\n",
    "        chapter_content = chapter_content[1:]\n",
    "        chapter_content[0] = f\"\\\\chapter{ {chapter_content[0].title()} }\"\n",
    "        chapter_content[0] = chapter_content[0].replace(\"'\", \"\")\n",
    "        chapter_content[1] = f\"\\\\l{ {chapter_content[1]} }\"\n",
    "        chapter_content[1] = chapter_content[1].replace(\"'\", \"\")\n",
    "        chapter_content =  '\\n'.join(chapter_content)\n",
    "        chapter_file.write(chapter_content)\n",
    "\n",
    "print(\"Chapters have been saved in the 'chapters' folder.\")"
   ]
  }
 ],
 "metadata": {
  "kernelspec": {
   "display_name": "Python 3",
   "language": "python",
   "name": "python3"
  },
  "language_info": {
   "codemirror_mode": {
    "name": "ipython",
    "version": 3
   },
   "file_extension": ".py",
   "mimetype": "text/x-python",
   "name": "python",
   "nbconvert_exporter": "python",
   "pygments_lexer": "ipython3",
   "version": "3.11.2"
  }
 },
 "nbformat": 4,
 "nbformat_minor": 2
}
